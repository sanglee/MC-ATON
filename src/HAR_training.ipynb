{
 "cells": [
  {
   "cell_type": "code",
   "execution_count": 37,
   "metadata": {},
   "outputs": [],
   "source": [
    "from data import uci_har, uci_preprocessing\n",
    "from simulation.make_data import get_dataloader\n",
    "\n",
    "from models import HARClassifier, VAE_1D\n",
    "\n",
    "from training import har_train\n",
    "\n",
    "import torch\n",
    "from torch import nn, optim\n",
    "import torch.nn.functional as F\n",
    "\n",
    "import numpy as np\n",
    "import pandas as pd\n",
    "\n",
    "from utils import AverageMeter, concatenate\n",
    "\n",
    "from tqdm.auto import tqdm\n",
    "from torch.optim.lr_scheduler import MultiStepLR\n",
    "import os\n",
    "\n",
    "from attacker import LinfPGDAttack\n",
    "\n",
    "import copy"
   ]
  },
  {
   "cell_type": "code",
   "execution_count": 2,
   "metadata": {
    "scrolled": true
   },
   "outputs": [
    {
     "name": "stdout",
     "output_type": "stream",
     "text": [
      "[4 4 4 ... 1 1 1] Counter({5: 1407, 4: 1374, 3: 1286, 0: 1226, 1: 1073, 2: 986})\n",
      "[4 4 4 ... 1 1 1] Counter({5: 537, 4: 532, 0: 496, 3: 491, 1: 471, 2: 420})\n"
     ]
    }
   ],
   "source": [
    "uci_preprocessing('/workspace/Dataset/TSData/uci_data/UCI_HAR_Dataset/', '/workspace/Dataset/TSData/uci_data/np')"
   ]
  },
  {
   "cell_type": "code",
   "execution_count": 49,
   "metadata": {},
   "outputs": [],
   "source": [
    "train_X = np.load('/workspace/Dataset/TSData/uci_data/np/np_train_x.npy')\n",
    "test_X = np.load('/workspace/Dataset/TSData/uci_data/np/np_test_x.npy')\n",
    "train_y = np.load('/workspace/Dataset/TSData/uci_data/np/np_train_y.npy')\n",
    "test_y = np.load('/workspace/Dataset/TSData/uci_data/np/np_test_y.npy')"
   ]
  },
  {
   "cell_type": "code",
   "execution_count": 51,
   "metadata": {},
   "outputs": [
    {
     "name": "stdout",
     "output_type": "stream",
     "text": [
      "1226\n",
      "1073\n",
      "986\n",
      "1286\n",
      "1374\n",
      "1407\n"
     ]
    }
   ],
   "source": [
    "for i in range(6):\n",
    "    print((train_y == i).sum())"
   ]
  },
  {
   "cell_type": "code",
   "execution_count": 46,
   "metadata": {},
   "outputs": [
    {
     "data": {
      "text/plain": [
       "(7352, 9, 128)"
      ]
     },
     "execution_count": 46,
     "metadata": {},
     "output_type": "execute_result"
    }
   ],
   "source": [
    "train_X.shape"
   ]
  },
  {
   "cell_type": "code",
   "execution_count": 47,
   "metadata": {},
   "outputs": [
    {
     "data": {
      "text/plain": [
       "(2947, 9, 128)"
      ]
     },
     "execution_count": 47,
     "metadata": {},
     "output_type": "execute_result"
    }
   ],
   "source": [
    "test_X.shape"
   ]
  },
  {
   "cell_type": "code",
   "execution_count": 48,
   "metadata": {},
   "outputs": [
    {
     "data": {
      "text/plain": [
       "10299"
      ]
     },
     "execution_count": 48,
     "metadata": {},
     "output_type": "execute_result"
    }
   ],
   "source": [
    "7352 + 2947"
   ]
  },
  {
   "cell_type": "code",
   "execution_count": null,
   "metadata": {},
   "outputs": [],
   "source": [
    "    np.save(os.path.join(save_path, \"np_train_x.npy\"), train_x)\n",
    "    np.save(os.path.join(save_path, \"np_train_y.npy\"), train_y)\n",
    "    np.save(os.path.join(save_path, \"np_test_x.npy\"), test_x)\n",
    "    np.save(os.path.join(save_path, \"np_test_y.npy\"), test_y)"
   ]
  },
  {
   "cell_type": "code",
   "execution_count": 4,
   "metadata": {
    "scrolled": true
   },
   "outputs": [
    {
     "data": {
      "application/vnd.jupyter.widget-view+json": {
       "model_id": "c8ec5604fbd94c7dbf2735eefd653e83",
       "version_major": 2,
       "version_minor": 0
      },
      "text/plain": [
       "  0%|          | 0/20 [00:00<?, ?it/s]"
      ]
     },
     "metadata": {},
     "output_type": "display_data"
    },
    {
     "name": "stdout",
     "output_type": "stream",
     "text": [
      "Epoch 1\tTrain loss: 0.8330\tValidation accuracy: 0.8440\n",
      "Epoch 2\tTrain loss: 0.2637\tValidation accuracy: 0.8757\n",
      "Epoch 3\tTrain loss: 0.1488\tValidation accuracy: 0.8850\n",
      "Epoch 4\tTrain loss: 0.1237\tValidation accuracy: 0.8787\n",
      "Epoch 5\tTrain loss: 0.1286\tValidation accuracy: 0.8409\n",
      "Epoch 6\tTrain loss: 0.1255\tValidation accuracy: 0.8960\n",
      "Epoch 7\tTrain loss: 0.1020\tValidation accuracy: 0.8907\n",
      "Epoch 8\tTrain loss: 0.1057\tValidation accuracy: 0.8920\n",
      "Epoch 9\tTrain loss: 0.1021\tValidation accuracy: 0.8960\n",
      "Epoch 10\tTrain loss: 0.0979\tValidation accuracy: 0.8917\n",
      "Epoch 11\tTrain loss: 0.1005\tValidation accuracy: 0.8950\n",
      "Epoch 12\tTrain loss: 0.0920\tValidation accuracy: 0.8946\n",
      "Epoch 13\tTrain loss: 0.0965\tValidation accuracy: 0.8713\n",
      "Epoch 14\tTrain loss: 0.1026\tValidation accuracy: 0.8820\n",
      "Epoch 15\tTrain loss: 0.0904\tValidation accuracy: 0.8903\n",
      "Epoch 16\tTrain loss: 0.0915\tValidation accuracy: 0.8863\n",
      "Epoch 17\tTrain loss: 0.0838\tValidation accuracy: 0.8950\n",
      "Epoch 18\tTrain loss: 0.0865\tValidation accuracy: 0.8647\n",
      "Epoch 19\tTrain loss: 0.0990\tValidation accuracy: 0.9027\n",
      "Epoch 20\tTrain loss: 0.0901\tValidation accuracy: 0.8816\n"
     ]
    },
    {
     "data": {
      "application/vnd.jupyter.widget-view+json": {
       "model_id": "e1340a80ca104f31ba193dbb02cd49e4",
       "version_major": 2,
       "version_minor": 0
      },
      "text/plain": [
       "  0%|          | 0/20 [00:00<?, ?it/s]"
      ]
     },
     "metadata": {},
     "output_type": "display_data"
    },
    {
     "name": "stdout",
     "output_type": "stream",
     "text": [
      "Epoch 1\tTrain loss: 0.9015\tValidation accuracy: 0.7530\n",
      "Epoch 2\tTrain loss: 0.4505\tValidation accuracy: 0.8590\n",
      "Epoch 3\tTrain loss: 0.2847\tValidation accuracy: 0.8289\n",
      "Epoch 4\tTrain loss: 0.2070\tValidation accuracy: 0.8712\n",
      "Epoch 5\tTrain loss: 0.1564\tValidation accuracy: 0.8773\n",
      "Epoch 6\tTrain loss: 0.1445\tValidation accuracy: 0.8993\n",
      "Epoch 7\tTrain loss: 0.1333\tValidation accuracy: 0.8957\n",
      "Epoch 8\tTrain loss: 0.1265\tValidation accuracy: 0.9053\n",
      "Epoch 9\tTrain loss: 0.1206\tValidation accuracy: 0.8913\n",
      "Epoch 10\tTrain loss: 0.1155\tValidation accuracy: 0.9007\n",
      "Epoch 11\tTrain loss: 0.1153\tValidation accuracy: 0.9060\n",
      "Epoch 12\tTrain loss: 0.1181\tValidation accuracy: 0.9030\n",
      "Epoch 13\tTrain loss: 0.1193\tValidation accuracy: 0.9043\n",
      "Epoch 14\tTrain loss: 0.1042\tValidation accuracy: 0.9083\n",
      "Epoch 15\tTrain loss: 0.1058\tValidation accuracy: 0.9000\n",
      "Epoch 16\tTrain loss: 0.1101\tValidation accuracy: 0.9057\n",
      "Epoch 17\tTrain loss: 0.1092\tValidation accuracy: 0.9023\n",
      "Epoch 18\tTrain loss: 0.1060\tValidation accuracy: 0.8993\n",
      "Epoch 19\tTrain loss: 0.1152\tValidation accuracy: 0.9133\n",
      "Epoch 20\tTrain loss: 0.1061\tValidation accuracy: 0.8518\n"
     ]
    },
    {
     "data": {
      "application/vnd.jupyter.widget-view+json": {
       "model_id": "8d0f11a697c542eab6b765965863df3a",
       "version_major": 2,
       "version_minor": 0
      },
      "text/plain": [
       "  0%|          | 0/20 [00:00<?, ?it/s]"
      ]
     },
     "metadata": {},
     "output_type": "display_data"
    },
    {
     "name": "stdout",
     "output_type": "stream",
     "text": [
      "Epoch 1\tTrain loss: 1.2877\tValidation accuracy: 0.6450\n",
      "Epoch 2\tTrain loss: 0.8181\tValidation accuracy: 0.7656\n",
      "Epoch 3\tTrain loss: 0.5188\tValidation accuracy: 0.8446\n",
      "Epoch 4\tTrain loss: 0.3678\tValidation accuracy: 0.8643\n",
      "Epoch 5\tTrain loss: 0.2881\tValidation accuracy: 0.8640\n",
      "Epoch 6\tTrain loss: 0.2445\tValidation accuracy: 0.8709\n",
      "Epoch 7\tTrain loss: 0.2438\tValidation accuracy: 0.8366\n",
      "Epoch 8\tTrain loss: 0.2091\tValidation accuracy: 0.8580\n",
      "Epoch 9\tTrain loss: 0.2043\tValidation accuracy: 0.8773\n",
      "Epoch 10\tTrain loss: 0.2075\tValidation accuracy: 0.8653\n",
      "Epoch 11\tTrain loss: 0.1940\tValidation accuracy: 0.8916\n",
      "Epoch 12\tTrain loss: 0.2134\tValidation accuracy: 0.8820\n",
      "Epoch 13\tTrain loss: 0.1812\tValidation accuracy: 0.8445\n",
      "Epoch 14\tTrain loss: 0.1746\tValidation accuracy: 0.8693\n",
      "Epoch 15\tTrain loss: 0.1663\tValidation accuracy: 0.8866\n",
      "Epoch 16\tTrain loss: 0.1525\tValidation accuracy: 0.8813\n",
      "Epoch 17\tTrain loss: 0.1919\tValidation accuracy: 0.8967\n",
      "Epoch 18\tTrain loss: 0.1562\tValidation accuracy: 0.8796\n",
      "Epoch 19\tTrain loss: 0.1601\tValidation accuracy: 0.9017\n",
      "Epoch 20\tTrain loss: 0.1585\tValidation accuracy: 0.8990\n"
     ]
    },
    {
     "data": {
      "application/vnd.jupyter.widget-view+json": {
       "model_id": "75f885cef4244ef785f533b4ca292295",
       "version_major": 2,
       "version_minor": 0
      },
      "text/plain": [
       "  0%|          | 0/20 [00:00<?, ?it/s]"
      ]
     },
     "metadata": {},
     "output_type": "display_data"
    },
    {
     "name": "stdout",
     "output_type": "stream",
     "text": [
      "Epoch 1\tTrain loss: 1.3643\tValidation accuracy: 0.4730\n",
      "Epoch 2\tTrain loss: 0.9458\tValidation accuracy: 0.6787\n",
      "Epoch 3\tTrain loss: 0.6803\tValidation accuracy: 0.7133\n",
      "Epoch 4\tTrain loss: 0.4887\tValidation accuracy: 0.7682\n",
      "Epoch 5\tTrain loss: 0.3963\tValidation accuracy: 0.7569\n",
      "Epoch 6\tTrain loss: 0.3472\tValidation accuracy: 0.8402\n",
      "Epoch 7\tTrain loss: 0.2917\tValidation accuracy: 0.8523\n",
      "Epoch 8\tTrain loss: 0.2830\tValidation accuracy: 0.8603\n",
      "Epoch 9\tTrain loss: 0.2504\tValidation accuracy: 0.8727\n",
      "Epoch 10\tTrain loss: 0.2303\tValidation accuracy: 0.8443\n",
      "Epoch 11\tTrain loss: 0.2203\tValidation accuracy: 0.8693\n",
      "Epoch 12\tTrain loss: 0.2005\tValidation accuracy: 0.8686\n",
      "Epoch 13\tTrain loss: 0.2531\tValidation accuracy: 0.8673\n",
      "Epoch 14\tTrain loss: 0.1995\tValidation accuracy: 0.8693\n",
      "Epoch 15\tTrain loss: 0.1841\tValidation accuracy: 0.8486\n",
      "Epoch 16\tTrain loss: 0.1749\tValidation accuracy: 0.7661\n",
      "Epoch 17\tTrain loss: 0.2073\tValidation accuracy: 0.8556\n",
      "Epoch 18\tTrain loss: 0.1658\tValidation accuracy: 0.8726\n",
      "Epoch 19\tTrain loss: 0.1583\tValidation accuracy: 0.8716\n",
      "Epoch 20\tTrain loss: 0.1633\tValidation accuracy: 0.8746\n"
     ]
    },
    {
     "data": {
      "application/vnd.jupyter.widget-view+json": {
       "model_id": "b0bbce401aeb418a8f3e6c3ead021b54",
       "version_major": 2,
       "version_minor": 0
      },
      "text/plain": [
       "  0%|          | 0/20 [00:00<?, ?it/s]"
      ]
     },
     "metadata": {},
     "output_type": "display_data"
    },
    {
     "name": "stdout",
     "output_type": "stream",
     "text": [
      "Epoch 1\tTrain loss: 1.4164\tValidation accuracy: 0.4208\n",
      "Epoch 2\tTrain loss: 1.1139\tValidation accuracy: 0.5094\n",
      "Epoch 3\tTrain loss: 0.9495\tValidation accuracy: 0.5851\n",
      "Epoch 4\tTrain loss: 0.8275\tValidation accuracy: 0.6827\n",
      "Epoch 5\tTrain loss: 0.7117\tValidation accuracy: 0.7082\n",
      "Epoch 6\tTrain loss: 0.6384\tValidation accuracy: 0.7201\n",
      "Epoch 7\tTrain loss: 0.5602\tValidation accuracy: 0.7297\n",
      "Epoch 8\tTrain loss: 0.4967\tValidation accuracy: 0.7257\n",
      "Epoch 9\tTrain loss: 0.4625\tValidation accuracy: 0.7491\n",
      "Epoch 10\tTrain loss: 0.4441\tValidation accuracy: 0.7391\n",
      "Epoch 11\tTrain loss: 0.3995\tValidation accuracy: 0.7561\n",
      "Epoch 12\tTrain loss: 0.3908\tValidation accuracy: 0.7511\n",
      "Epoch 13\tTrain loss: 0.3851\tValidation accuracy: 0.7521\n",
      "Epoch 14\tTrain loss: 0.3780\tValidation accuracy: 0.7437\n",
      "Epoch 15\tTrain loss: 0.3708\tValidation accuracy: 0.7521\n",
      "Epoch 16\tTrain loss: 0.3742\tValidation accuracy: 0.7534\n",
      "Epoch 17\tTrain loss: 0.3593\tValidation accuracy: 0.7367\n",
      "Epoch 18\tTrain loss: 0.3871\tValidation accuracy: 0.7377\n",
      "Epoch 19\tTrain loss: 0.4054\tValidation accuracy: 0.7168\n",
      "Epoch 20\tTrain loss: 0.3967\tValidation accuracy: 0.7461\n"
     ]
    },
    {
     "data": {
      "application/vnd.jupyter.widget-view+json": {
       "model_id": "864bcb9dff8643de8303c246e13ba7a9",
       "version_major": 2,
       "version_minor": 0
      },
      "text/plain": [
       "  0%|          | 0/20 [00:00<?, ?it/s]"
      ]
     },
     "metadata": {},
     "output_type": "display_data"
    },
    {
     "name": "stdout",
     "output_type": "stream",
     "text": [
      "Epoch 1\tTrain loss: 1.6136\tValidation accuracy: 0.3097\n",
      "Epoch 2\tTrain loss: 1.2117\tValidation accuracy: 0.3457\n",
      "Epoch 3\tTrain loss: 1.1071\tValidation accuracy: 0.3620\n",
      "Epoch 4\tTrain loss: 1.0598\tValidation accuracy: 0.6137\n",
      "Epoch 5\tTrain loss: 0.9524\tValidation accuracy: 0.6424\n",
      "Epoch 6\tTrain loss: 0.8301\tValidation accuracy: 0.6837\n",
      "Epoch 7\tTrain loss: 0.7201\tValidation accuracy: 0.7214\n",
      "Epoch 8\tTrain loss: 0.6110\tValidation accuracy: 0.7271\n",
      "Epoch 9\tTrain loss: 0.5417\tValidation accuracy: 0.7200\n",
      "Epoch 10\tTrain loss: 0.4865\tValidation accuracy: 0.7407\n",
      "Epoch 11\tTrain loss: 0.4407\tValidation accuracy: 0.7411\n",
      "Epoch 12\tTrain loss: 0.4419\tValidation accuracy: 0.7364\n",
      "Epoch 13\tTrain loss: 0.4165\tValidation accuracy: 0.7451\n",
      "Epoch 14\tTrain loss: 0.4056\tValidation accuracy: 0.7551\n",
      "Epoch 15\tTrain loss: 0.4688\tValidation accuracy: 0.7457\n",
      "Epoch 16\tTrain loss: 0.4084\tValidation accuracy: 0.7577\n",
      "Epoch 17\tTrain loss: 0.3815\tValidation accuracy: 0.7607\n",
      "Epoch 18\tTrain loss: 0.3838\tValidation accuracy: 0.7507\n",
      "Epoch 19\tTrain loss: 0.3889\tValidation accuracy: 0.7571\n",
      "Epoch 20\tTrain loss: 0.3722\tValidation accuracy: 0.7564\n"
     ]
    },
    {
     "data": {
      "application/vnd.jupyter.widget-view+json": {
       "model_id": "c2a336a408004abab8db4670f222159c",
       "version_major": 2,
       "version_minor": 0
      },
      "text/plain": [
       "  0%|          | 0/20 [00:00<?, ?it/s]"
      ]
     },
     "metadata": {},
     "output_type": "display_data"
    },
    {
     "name": "stdout",
     "output_type": "stream",
     "text": [
      "Epoch 1\tTrain loss: 1.7699\tValidation accuracy: 0.3164\n",
      "Epoch 2\tTrain loss: 1.4169\tValidation accuracy: 0.3601\n",
      "Epoch 3\tTrain loss: 1.1532\tValidation accuracy: 0.3640\n",
      "Epoch 4\tTrain loss: 1.1247\tValidation accuracy: 0.3460\n",
      "Epoch 5\tTrain loss: 1.1156\tValidation accuracy: 0.3460\n",
      "Epoch 6\tTrain loss: 1.1104\tValidation accuracy: 0.3470\n",
      "Epoch 7\tTrain loss: 1.1062\tValidation accuracy: 0.3723\n",
      "Epoch 8\tTrain loss: 1.0914\tValidation accuracy: 0.4270\n",
      "Epoch 9\tTrain loss: 1.0560\tValidation accuracy: 0.4927\n",
      "Epoch 10\tTrain loss: 1.0012\tValidation accuracy: 0.5203\n",
      "Epoch 11\tTrain loss: 0.9130\tValidation accuracy: 0.5460\n",
      "Epoch 12\tTrain loss: 0.8431\tValidation accuracy: 0.5553\n",
      "Epoch 13\tTrain loss: 0.7964\tValidation accuracy: 0.6153\n",
      "Epoch 14\tTrain loss: 0.7709\tValidation accuracy: 0.6167\n",
      "Epoch 15\tTrain loss: 0.7583\tValidation accuracy: 0.5283\n",
      "Epoch 16\tTrain loss: 0.8216\tValidation accuracy: 0.5317\n",
      "Epoch 17\tTrain loss: 0.7732\tValidation accuracy: 0.5310\n",
      "Epoch 18\tTrain loss: 0.7447\tValidation accuracy: 0.6053\n",
      "Epoch 19\tTrain loss: 0.7274\tValidation accuracy: 0.6047\n",
      "Epoch 20\tTrain loss: 0.7343\tValidation accuracy: 0.6170\n"
     ]
    },
    {
     "data": {
      "application/vnd.jupyter.widget-view+json": {
       "model_id": "eb003c5cf7564fd3bf0d87023d77ceb9",
       "version_major": 2,
       "version_minor": 0
      },
      "text/plain": [
       "  0%|          | 0/20 [00:00<?, ?it/s]"
      ]
     },
     "metadata": {},
     "output_type": "display_data"
    },
    {
     "name": "stdout",
     "output_type": "stream",
     "text": [
      "Epoch 1\tTrain loss: 1.8087\tValidation accuracy: 0.1773\n",
      "Epoch 2\tTrain loss: 1.7855\tValidation accuracy: 0.1790\n",
      "Epoch 3\tTrain loss: 1.7842\tValidation accuracy: 0.1790\n",
      "Epoch 4\tTrain loss: 1.7842\tValidation accuracy: 0.1790\n",
      "Epoch 5\tTrain loss: 1.7840\tValidation accuracy: 0.1790\n",
      "Epoch 6\tTrain loss: 1.7840\tValidation accuracy: 0.1790\n",
      "Epoch 7\tTrain loss: 1.7836\tValidation accuracy: 0.1790\n",
      "Epoch 8\tTrain loss: 1.7834\tValidation accuracy: 0.1790\n",
      "Epoch 9\tTrain loss: 1.7825\tValidation accuracy: 0.1790\n",
      "Epoch 10\tTrain loss: 1.7800\tValidation accuracy: 0.1790\n",
      "Epoch 11\tTrain loss: 1.7687\tValidation accuracy: 0.1790\n",
      "Epoch 12\tTrain loss: 1.6889\tValidation accuracy: 0.3439\n",
      "Epoch 13\tTrain loss: 1.4412\tValidation accuracy: 0.3657\n",
      "Epoch 14\tTrain loss: 1.2959\tValidation accuracy: 0.4217\n",
      "Epoch 15\tTrain loss: 1.2139\tValidation accuracy: 0.4160\n",
      "Epoch 16\tTrain loss: 1.1579\tValidation accuracy: 0.4713\n",
      "Epoch 17\tTrain loss: 1.1248\tValidation accuracy: 0.4783\n",
      "Epoch 18\tTrain loss: 1.1016\tValidation accuracy: 0.4900\n",
      "Epoch 19\tTrain loss: 1.1453\tValidation accuracy: 0.3453\n",
      "Epoch 20\tTrain loss: 1.1472\tValidation accuracy: 0.3440\n"
     ]
    },
    {
     "data": {
      "application/vnd.jupyter.widget-view+json": {
       "model_id": "f77805ecb3b8422c8f006f3341a0c0ad",
       "version_major": 2,
       "version_minor": 0
      },
      "text/plain": [
       "  0%|          | 0/20 [00:00<?, ?it/s]"
      ]
     },
     "metadata": {},
     "output_type": "display_data"
    },
    {
     "name": "stdout",
     "output_type": "stream",
     "text": [
      "Epoch 1\tTrain loss: 1.8098\tValidation accuracy: 0.1773\n",
      "Epoch 2\tTrain loss: 1.7855\tValidation accuracy: 0.1790\n",
      "Epoch 3\tTrain loss: 1.7843\tValidation accuracy: 0.1790\n",
      "Epoch 4\tTrain loss: 1.7844\tValidation accuracy: 0.1790\n",
      "Epoch 5\tTrain loss: 1.7843\tValidation accuracy: 0.1790\n",
      "Epoch 6\tTrain loss: 1.7842\tValidation accuracy: 0.1790\n",
      "Epoch 7\tTrain loss: 1.7843\tValidation accuracy: 0.1773\n",
      "Epoch 8\tTrain loss: 1.7843\tValidation accuracy: 0.1790\n",
      "Epoch 9\tTrain loss: 1.7843\tValidation accuracy: 0.1790\n",
      "Epoch 10\tTrain loss: 1.7843\tValidation accuracy: 0.1790\n",
      "Epoch 11\tTrain loss: 1.7842\tValidation accuracy: 0.1790\n",
      "Epoch 12\tTrain loss: 1.7842\tValidation accuracy: 0.1790\n",
      "Epoch 13\tTrain loss: 1.7842\tValidation accuracy: 0.1790\n",
      "Epoch 14\tTrain loss: 1.7843\tValidation accuracy: 0.1790\n",
      "Epoch 15\tTrain loss: 1.7842\tValidation accuracy: 0.1790\n",
      "Epoch 16\tTrain loss: 1.7842\tValidation accuracy: 0.1790\n",
      "Epoch 17\tTrain loss: 1.7843\tValidation accuracy: 0.1790\n",
      "Epoch 18\tTrain loss: 1.7844\tValidation accuracy: 0.1790\n",
      "Epoch 19\tTrain loss: 1.7842\tValidation accuracy: 0.1790\n",
      "Epoch 20\tTrain loss: 1.7842\tValidation accuracy: 0.1790\n"
     ]
    },
    {
     "data": {
      "application/vnd.jupyter.widget-view+json": {
       "model_id": "9180b9c5bf1c4c29abc9ea21b6b04b6c",
       "version_major": 2,
       "version_minor": 0
      },
      "text/plain": [
       "  0%|          | 0/20 [00:00<?, ?it/s]"
      ]
     },
     "metadata": {},
     "output_type": "display_data"
    },
    {
     "name": "stdout",
     "output_type": "stream",
     "text": [
      "Epoch 1\tTrain loss: 1.8107\tValidation accuracy: 0.1773\n",
      "Epoch 2\tTrain loss: 1.7858\tValidation accuracy: 0.1790\n",
      "Epoch 3\tTrain loss: 1.7844\tValidation accuracy: 0.1790\n",
      "Epoch 4\tTrain loss: 1.7842\tValidation accuracy: 0.1790\n",
      "Epoch 5\tTrain loss: 1.7842\tValidation accuracy: 0.1790\n",
      "Epoch 6\tTrain loss: 1.7842\tValidation accuracy: 0.1790\n",
      "Epoch 7\tTrain loss: 1.7842\tValidation accuracy: 0.1790\n",
      "Epoch 8\tTrain loss: 1.7844\tValidation accuracy: 0.1790\n",
      "Epoch 9\tTrain loss: 1.7845\tValidation accuracy: 0.1790\n",
      "Epoch 10\tTrain loss: 1.7841\tValidation accuracy: 0.1790\n",
      "Epoch 11\tTrain loss: 1.7843\tValidation accuracy: 0.1790\n",
      "Epoch 12\tTrain loss: 1.7842\tValidation accuracy: 0.1790\n",
      "Epoch 13\tTrain loss: 1.7842\tValidation accuracy: 0.1790\n",
      "Epoch 14\tTrain loss: 1.7843\tValidation accuracy: 0.1790\n",
      "Epoch 15\tTrain loss: 1.7842\tValidation accuracy: 0.1790\n",
      "Epoch 16\tTrain loss: 1.7842\tValidation accuracy: 0.1790\n",
      "Epoch 17\tTrain loss: 1.7841\tValidation accuracy: 0.1790\n",
      "Epoch 18\tTrain loss: 1.7843\tValidation accuracy: 0.1790\n",
      "Epoch 19\tTrain loss: 1.7842\tValidation accuracy: 0.1790\n",
      "Epoch 20\tTrain loss: 1.7842\tValidation accuracy: 0.1790\n"
     ]
    },
    {
     "data": {
      "application/vnd.jupyter.widget-view+json": {
       "model_id": "206891cb1b794f129cb55bfa50a02d85",
       "version_major": 2,
       "version_minor": 0
      },
      "text/plain": [
       "  0%|          | 0/20 [00:00<?, ?it/s]"
      ]
     },
     "metadata": {},
     "output_type": "display_data"
    },
    {
     "name": "stdout",
     "output_type": "stream",
     "text": [
      "Epoch 1\tTrain loss: 1.8098\tValidation accuracy: 0.1773\n",
      "Epoch 2\tTrain loss: 1.7856\tValidation accuracy: 0.1790\n",
      "Epoch 3\tTrain loss: 1.7842\tValidation accuracy: 0.1790\n",
      "Epoch 4\tTrain loss: 1.7842\tValidation accuracy: 0.1790\n",
      "Epoch 5\tTrain loss: 1.7842\tValidation accuracy: 0.1790\n",
      "Epoch 6\tTrain loss: 1.7842\tValidation accuracy: 0.1790\n",
      "Epoch 7\tTrain loss: 1.7843\tValidation accuracy: 0.1790\n",
      "Epoch 8\tTrain loss: 1.7842\tValidation accuracy: 0.1790\n",
      "Epoch 9\tTrain loss: 1.7842\tValidation accuracy: 0.1790\n",
      "Epoch 10\tTrain loss: 1.7842\tValidation accuracy: 0.1790\n",
      "Epoch 11\tTrain loss: 1.7842\tValidation accuracy: 0.1790\n",
      "Epoch 12\tTrain loss: 1.7842\tValidation accuracy: 0.1790\n",
      "Epoch 13\tTrain loss: 1.7844\tValidation accuracy: 0.1790\n",
      "Epoch 14\tTrain loss: 1.7842\tValidation accuracy: 0.1790\n",
      "Epoch 15\tTrain loss: 1.7843\tValidation accuracy: 0.1790\n",
      "Epoch 16\tTrain loss: 1.7843\tValidation accuracy: 0.1790\n",
      "Epoch 17\tTrain loss: 1.7843\tValidation accuracy: 0.1790\n",
      "Epoch 18\tTrain loss: 1.7842\tValidation accuracy: 0.1790\n",
      "Epoch 19\tTrain loss: 1.7842\tValidation accuracy: 0.1790\n",
      "Epoch 20\tTrain loss: 1.7842\tValidation accuracy: 0.1790\n"
     ]
    },
    {
     "data": {
      "application/vnd.jupyter.widget-view+json": {
       "model_id": "3eab75f2abd24a0d80965e3c208c6208",
       "version_major": 2,
       "version_minor": 0
      },
      "text/plain": [
       "  0%|          | 0/20 [00:00<?, ?it/s]"
      ]
     },
     "metadata": {},
     "output_type": "display_data"
    },
    {
     "name": "stdout",
     "output_type": "stream",
     "text": [
      "Epoch 1\tTrain loss: 0.0793\tValidation accuracy: 0.8943\n",
      "Epoch 2\tTrain loss: 0.0739\tValidation accuracy: 0.9170\n",
      "Epoch 3\tTrain loss: 0.0699\tValidation accuracy: 0.9147\n",
      "Epoch 4\tTrain loss: 0.0566\tValidation accuracy: 0.9170\n",
      "Epoch 5\tTrain loss: 0.0597\tValidation accuracy: 0.9107\n",
      "Epoch 6\tTrain loss: 0.0600\tValidation accuracy: 0.9143\n",
      "Epoch 7\tTrain loss: 0.0577\tValidation accuracy: 0.9040\n",
      "Epoch 8\tTrain loss: 0.0590\tValidation accuracy: 0.9083\n",
      "Epoch 9\tTrain loss: 0.0588\tValidation accuracy: 0.9023\n",
      "Epoch 10\tTrain loss: 0.0709\tValidation accuracy: 0.9117\n",
      "Epoch 11\tTrain loss: 0.0556\tValidation accuracy: 0.9057\n",
      "Epoch 12\tTrain loss: 0.0527\tValidation accuracy: 0.9073\n",
      "Epoch 13\tTrain loss: 0.0550\tValidation accuracy: 0.9017\n",
      "Epoch 14\tTrain loss: 0.0564\tValidation accuracy: 0.9140\n",
      "Epoch 15\tTrain loss: 0.0576\tValidation accuracy: 0.9080\n",
      "Epoch 16\tTrain loss: 0.0662\tValidation accuracy: 0.8863\n",
      "Epoch 17\tTrain loss: 0.0670\tValidation accuracy: 0.8830\n",
      "Epoch 18\tTrain loss: 0.0657\tValidation accuracy: 0.9083\n",
      "Epoch 19\tTrain loss: 0.0520\tValidation accuracy: 0.9137\n",
      "Epoch 20\tTrain loss: 0.0952\tValidation accuracy: 0.8907\n"
     ]
    },
    {
     "data": {
      "application/vnd.jupyter.widget-view+json": {
       "model_id": "7cc31019e75042ebad8c38ae03498513",
       "version_major": 2,
       "version_minor": 0
      },
      "text/plain": [
       "  0%|          | 0/20 [00:00<?, ?it/s]"
      ]
     },
     "metadata": {},
     "output_type": "display_data"
    },
    {
     "name": "stdout",
     "output_type": "stream",
     "text": [
      "Epoch 1\tTrain loss: 0.1223\tValidation accuracy: 0.8467\n",
      "Epoch 2\tTrain loss: 0.0792\tValidation accuracy: 0.9160\n",
      "Epoch 3\tTrain loss: 0.0718\tValidation accuracy: 0.9190\n",
      "Epoch 4\tTrain loss: 0.0640\tValidation accuracy: 0.9163\n",
      "Epoch 5\tTrain loss: 0.0644\tValidation accuracy: 0.8997\n",
      "Epoch 6\tTrain loss: 0.0727\tValidation accuracy: 0.9233\n",
      "Epoch 7\tTrain loss: 0.0620\tValidation accuracy: 0.9187\n",
      "Epoch 8\tTrain loss: 0.0577\tValidation accuracy: 0.9040\n",
      "Epoch 9\tTrain loss: 0.0639\tValidation accuracy: 0.9097\n",
      "Epoch 10\tTrain loss: 0.0616\tValidation accuracy: 0.9130\n",
      "Epoch 11\tTrain loss: 0.0601\tValidation accuracy: 0.9120\n",
      "Epoch 12\tTrain loss: 0.0612\tValidation accuracy: 0.9197\n",
      "Epoch 13\tTrain loss: 0.0593\tValidation accuracy: 0.9100\n",
      "Epoch 14\tTrain loss: 0.0570\tValidation accuracy: 0.9203\n",
      "Epoch 15\tTrain loss: 0.0509\tValidation accuracy: 0.9080\n",
      "Epoch 16\tTrain loss: 0.0692\tValidation accuracy: 0.9120\n",
      "Epoch 17\tTrain loss: 0.0716\tValidation accuracy: 0.9187\n",
      "Epoch 18\tTrain loss: 0.0620\tValidation accuracy: 0.9170\n",
      "Epoch 19\tTrain loss: 0.0704\tValidation accuracy: 0.9017\n",
      "Epoch 20\tTrain loss: 0.0575\tValidation accuracy: 0.9087\n"
     ]
    },
    {
     "data": {
      "application/vnd.jupyter.widget-view+json": {
       "model_id": "b95448f874b9490583aced9bd24e6e4d",
       "version_major": 2,
       "version_minor": 0
      },
      "text/plain": [
       "  0%|          | 0/20 [00:00<?, ?it/s]"
      ]
     },
     "metadata": {},
     "output_type": "display_data"
    },
    {
     "name": "stdout",
     "output_type": "stream",
     "text": [
      "Epoch 1\tTrain loss: 0.2522\tValidation accuracy: 0.8926\n",
      "Epoch 2\tTrain loss: 0.0997\tValidation accuracy: 0.8957\n",
      "Epoch 3\tTrain loss: 0.0920\tValidation accuracy: 0.9063\n",
      "Epoch 4\tTrain loss: 0.0823\tValidation accuracy: 0.9143\n",
      "Epoch 5\tTrain loss: 0.0838\tValidation accuracy: 0.9083\n",
      "Epoch 6\tTrain loss: 0.0771\tValidation accuracy: 0.8933\n",
      "Epoch 7\tTrain loss: 0.0933\tValidation accuracy: 0.9043\n",
      "Epoch 8\tTrain loss: 0.0751\tValidation accuracy: 0.9070\n",
      "Epoch 9\tTrain loss: 0.0857\tValidation accuracy: 0.9057\n",
      "Epoch 10\tTrain loss: 0.0721\tValidation accuracy: 0.9043\n",
      "Epoch 11\tTrain loss: 0.0712\tValidation accuracy: 0.9180\n",
      "Epoch 12\tTrain loss: 0.1046\tValidation accuracy: 0.8610\n",
      "Epoch 13\tTrain loss: 0.0838\tValidation accuracy: 0.9030\n",
      "Epoch 14\tTrain loss: 0.0724\tValidation accuracy: 0.9043\n",
      "Epoch 15\tTrain loss: 0.0626\tValidation accuracy: 0.9080\n",
      "Epoch 16\tTrain loss: 0.0768\tValidation accuracy: 0.9133\n",
      "Epoch 17\tTrain loss: 0.0645\tValidation accuracy: 0.9070\n",
      "Epoch 18\tTrain loss: 0.0711\tValidation accuracy: 0.9100\n",
      "Epoch 19\tTrain loss: 0.0701\tValidation accuracy: 0.9107\n",
      "Epoch 20\tTrain loss: 0.0760\tValidation accuracy: 0.9110\n"
     ]
    },
    {
     "data": {
      "application/vnd.jupyter.widget-view+json": {
       "model_id": "26e7f608028f4e178b53cbe008347093",
       "version_major": 2,
       "version_minor": 0
      },
      "text/plain": [
       "  0%|          | 0/20 [00:00<?, ?it/s]"
      ]
     },
     "metadata": {},
     "output_type": "display_data"
    },
    {
     "name": "stdout",
     "output_type": "stream",
     "text": [
      "Epoch 1\tTrain loss: 0.4491\tValidation accuracy: 0.9000\n",
      "Epoch 2\tTrain loss: 0.1572\tValidation accuracy: 0.9000\n",
      "Epoch 3\tTrain loss: 0.1159\tValidation accuracy: 0.9130\n",
      "Epoch 4\tTrain loss: 0.1049\tValidation accuracy: 0.9103\n",
      "Epoch 5\tTrain loss: 0.0948\tValidation accuracy: 0.9133\n",
      "Epoch 6\tTrain loss: 0.1045\tValidation accuracy: 0.9170\n",
      "Epoch 7\tTrain loss: 0.0972\tValidation accuracy: 0.9077\n",
      "Epoch 8\tTrain loss: 0.0931\tValidation accuracy: 0.9063\n",
      "Epoch 9\tTrain loss: 0.0817\tValidation accuracy: 0.9103\n",
      "Epoch 10\tTrain loss: 0.0974\tValidation accuracy: 0.9083\n",
      "Epoch 11\tTrain loss: 0.0848\tValidation accuracy: 0.9130\n",
      "Epoch 12\tTrain loss: 0.0724\tValidation accuracy: 0.9073\n",
      "Epoch 13\tTrain loss: 0.0733\tValidation accuracy: 0.9077\n",
      "Epoch 14\tTrain loss: 0.0727\tValidation accuracy: 0.8937\n",
      "Epoch 15\tTrain loss: 0.0781\tValidation accuracy: 0.9093\n",
      "Epoch 16\tTrain loss: 0.0820\tValidation accuracy: 0.9123\n",
      "Epoch 17\tTrain loss: 0.0658\tValidation accuracy: 0.9140\n",
      "Epoch 18\tTrain loss: 0.0741\tValidation accuracy: 0.9010\n",
      "Epoch 19\tTrain loss: 0.0694\tValidation accuracy: 0.9130\n",
      "Epoch 20\tTrain loss: 0.0651\tValidation accuracy: 0.9030\n"
     ]
    }
   ],
   "source": [
    "for sparsity in [0.7, 0.8, 0.9, 0.91, 0.93, 0.95, 0.97, 0.99, 0.993, 0.996, 0.999, 0.1, 0.3, 0.5, 0.6]:\n",
    "    har_train(cuda_num=4, EPOCH=20, save_interval=5, resume=True, comp_ratio=sparsity, model_dir='./simulation/HAR_UCI/')"
   ]
  },
  {
   "cell_type": "markdown",
   "metadata": {},
   "source": [
    "# VAE Train"
   ]
  },
  {
   "cell_type": "code",
   "execution_count": 16,
   "metadata": {},
   "outputs": [],
   "source": [
    "def train_vae(cuda_num, check_point=5, EPOCHs=100):\n",
    "    model_dir='./simulation/HAR_UCI/'\n",
    "    \n",
    "    device = 'cuda:%d'%cuda_num\n",
    "    model = VAE_1D(9, 1536)\n",
    "    model.to(device)\n",
    "    \n",
    "    optimizer = optim.SGD(model.parameters(), lr=0.01, momentum=0.9)\n",
    "\n",
    "    train_loader, test_loader = uci_har('/workspace/Dataset/TSData/uci_data/np/')\n",
    "    \n",
    "    for epoch in tqdm(range(EPOCHs)):\n",
    "        train_loss = AverageMeter()\n",
    "        recon_loss = AverageMeter()\n",
    "        model.train()\n",
    "        for X, _ in train_loader:\n",
    "            X = X.to(device)\n",
    "            \n",
    "            rec_enc, mean, logvar = model(X)\n",
    "            \n",
    "            rec_loss = ((rec_enc - X) ** 2).mean()\n",
    "            prior_loss = 1 + logvar - mean.pow(2) - logvar.exp()\n",
    "            prior_loss = (-0.5 * torch.sum(prior_loss)) / torch.numel(mean.data)\n",
    "            err_enc = prior_loss + 5 * rec_loss\n",
    "            \n",
    "            train_loss.update(err_enc.item(), X.size(0))\n",
    "            recon_loss.update(rec_loss.item(), X.size(0))\n",
    "            \n",
    "            optimizer.zero_grad()\n",
    "            err_enc.backward()\n",
    "            optimizer.step()\n",
    "            \n",
    "        print('Epoch {}\\tTrain loss: {:.4f}\\tRecon loss: {:.4f}'.format(epoch+1, train_loss.avg, recon_loss.avg))\n",
    "        \n",
    "        if epoch % check_point == 0 and epoch != 0:\n",
    "            torch.save(model.state_dict(),\n",
    "                       os.path.join(model_dir, 'vae-epoch{}.pt'.format(epoch)))"
   ]
  },
  {
   "cell_type": "code",
   "execution_count": 17,
   "metadata": {
    "scrolled": true
   },
   "outputs": [
    {
     "data": {
      "application/vnd.jupyter.widget-view+json": {
       "model_id": "c4d03043cacf47709a559e18b1ca0a81",
       "version_major": 2,
       "version_minor": 0
      },
      "text/plain": [
       "  0%|          | 0/100 [00:00<?, ?it/s]"
      ]
     },
     "metadata": {},
     "output_type": "display_data"
    },
    {
     "name": "stdout",
     "output_type": "stream",
     "text": [
      "Epoch 1\tTrain loss: 1.1479\tRecon loss: 0.2295\n",
      "Epoch 2\tTrain loss: 0.5494\tRecon loss: 0.1098\n",
      "Epoch 3\tTrain loss: 0.5090\tRecon loss: 0.1018\n",
      "Epoch 4\tTrain loss: 0.5053\tRecon loss: 0.1011\n",
      "Epoch 5\tTrain loss: 0.5038\tRecon loss: 0.1008\n",
      "Epoch 6\tTrain loss: 0.5029\tRecon loss: 0.1006\n",
      "Epoch 7\tTrain loss: 0.5023\tRecon loss: 0.1005\n",
      "Epoch 8\tTrain loss: 0.5019\tRecon loss: 0.1004\n",
      "Epoch 9\tTrain loss: 0.5014\tRecon loss: 0.1003\n",
      "Epoch 10\tTrain loss: 0.5011\tRecon loss: 0.1002\n",
      "Epoch 11\tTrain loss: 0.5008\tRecon loss: 0.1002\n",
      "Epoch 12\tTrain loss: 0.5006\tRecon loss: 0.1001\n",
      "Epoch 13\tTrain loss: 0.5004\tRecon loss: 0.1001\n",
      "Epoch 14\tTrain loss: 0.5003\tRecon loss: 0.1001\n",
      "Epoch 15\tTrain loss: 0.5000\tRecon loss: 0.1000\n",
      "Epoch 16\tTrain loss: 0.5000\tRecon loss: 0.1000\n",
      "Epoch 17\tTrain loss: 0.4998\tRecon loss: 0.1000\n",
      "Epoch 18\tTrain loss: 0.4997\tRecon loss: 0.0999\n",
      "Epoch 19\tTrain loss: 0.4996\tRecon loss: 0.0999\n",
      "Epoch 20\tTrain loss: 0.4996\tRecon loss: 0.0999\n",
      "Epoch 21\tTrain loss: 0.4993\tRecon loss: 0.0999\n",
      "Epoch 22\tTrain loss: 0.4992\tRecon loss: 0.0998\n",
      "Epoch 23\tTrain loss: 0.4992\tRecon loss: 0.0998\n",
      "Epoch 24\tTrain loss: 0.4991\tRecon loss: 0.0998\n",
      "Epoch 25\tTrain loss: 0.4990\tRecon loss: 0.0998\n",
      "Epoch 26\tTrain loss: 0.4991\tRecon loss: 0.0998\n",
      "Epoch 27\tTrain loss: 0.4990\tRecon loss: 0.0998\n",
      "Epoch 28\tTrain loss: 0.4988\tRecon loss: 0.0998\n",
      "Epoch 29\tTrain loss: 0.4987\tRecon loss: 0.0997\n",
      "Epoch 30\tTrain loss: 0.4987\tRecon loss: 0.0997\n",
      "Epoch 31\tTrain loss: 0.4986\tRecon loss: 0.0997\n",
      "Epoch 32\tTrain loss: 0.4986\tRecon loss: 0.0997\n",
      "Epoch 33\tTrain loss: 0.4986\tRecon loss: 0.0997\n",
      "Epoch 34\tTrain loss: 0.4985\tRecon loss: 0.0997\n",
      "Epoch 35\tTrain loss: 0.4984\tRecon loss: 0.0997\n",
      "Epoch 36\tTrain loss: 0.4984\tRecon loss: 0.0997\n",
      "Epoch 37\tTrain loss: 0.4984\tRecon loss: 0.0997\n",
      "Epoch 38\tTrain loss: 0.4983\tRecon loss: 0.0997\n",
      "Epoch 39\tTrain loss: 0.4982\tRecon loss: 0.0996\n",
      "Epoch 40\tTrain loss: 0.4982\tRecon loss: 0.0996\n",
      "Epoch 41\tTrain loss: 0.4982\tRecon loss: 0.0996\n",
      "Epoch 42\tTrain loss: 0.4982\tRecon loss: 0.0996\n",
      "Epoch 43\tTrain loss: 0.4980\tRecon loss: 0.0996\n",
      "Epoch 44\tTrain loss: 0.4981\tRecon loss: 0.0996\n",
      "Epoch 45\tTrain loss: 0.4981\tRecon loss: 0.0996\n",
      "Epoch 46\tTrain loss: 0.4981\tRecon loss: 0.0996\n",
      "Epoch 47\tTrain loss: 0.4981\tRecon loss: 0.0996\n",
      "Epoch 48\tTrain loss: 0.4980\tRecon loss: 0.0996\n",
      "Epoch 49\tTrain loss: 0.4981\tRecon loss: 0.0996\n",
      "Epoch 50\tTrain loss: 0.4979\tRecon loss: 0.0996\n",
      "Epoch 51\tTrain loss: 0.4978\tRecon loss: 0.0996\n",
      "Epoch 52\tTrain loss: 0.4979\tRecon loss: 0.0996\n",
      "Epoch 53\tTrain loss: 0.4979\tRecon loss: 0.0996\n",
      "Epoch 54\tTrain loss: 0.4978\tRecon loss: 0.0996\n",
      "Epoch 55\tTrain loss: 0.4978\tRecon loss: 0.0996\n",
      "Epoch 56\tTrain loss: 0.4978\tRecon loss: 0.0996\n",
      "Epoch 57\tTrain loss: 0.4978\tRecon loss: 0.0995\n",
      "Epoch 58\tTrain loss: 0.4978\tRecon loss: 0.0995\n",
      "Epoch 59\tTrain loss: 0.4977\tRecon loss: 0.0995\n",
      "Epoch 60\tTrain loss: 0.4977\tRecon loss: 0.0995\n",
      "Epoch 61\tTrain loss: 0.4977\tRecon loss: 0.0995\n",
      "Epoch 62\tTrain loss: 0.4977\tRecon loss: 0.0995\n",
      "Epoch 63\tTrain loss: 0.4977\tRecon loss: 0.0995\n",
      "Epoch 64\tTrain loss: 0.4976\tRecon loss: 0.0995\n",
      "Epoch 65\tTrain loss: 0.4976\tRecon loss: 0.0995\n",
      "Epoch 66\tTrain loss: 0.4976\tRecon loss: 0.0995\n",
      "Epoch 67\tTrain loss: 0.4975\tRecon loss: 0.0995\n",
      "Epoch 68\tTrain loss: 0.4975\tRecon loss: 0.0995\n",
      "Epoch 69\tTrain loss: 0.4975\tRecon loss: 0.0995\n",
      "Epoch 70\tTrain loss: 0.4976\tRecon loss: 0.0995\n",
      "Epoch 71\tTrain loss: 0.4975\tRecon loss: 0.0995\n",
      "Epoch 72\tTrain loss: 0.4975\tRecon loss: 0.0995\n",
      "Epoch 73\tTrain loss: 0.4975\tRecon loss: 0.0995\n",
      "Epoch 74\tTrain loss: 0.4975\tRecon loss: 0.0995\n",
      "Epoch 75\tTrain loss: 0.4975\tRecon loss: 0.0995\n",
      "Epoch 76\tTrain loss: 0.4974\tRecon loss: 0.0995\n",
      "Epoch 77\tTrain loss: 0.4974\tRecon loss: 0.0995\n",
      "Epoch 78\tTrain loss: 0.4974\tRecon loss: 0.0995\n",
      "Epoch 79\tTrain loss: 0.4974\tRecon loss: 0.0995\n",
      "Epoch 80\tTrain loss: 0.4974\tRecon loss: 0.0995\n",
      "Epoch 81\tTrain loss: 0.4974\tRecon loss: 0.0995\n",
      "Epoch 82\tTrain loss: 0.4973\tRecon loss: 0.0994\n",
      "Epoch 83\tTrain loss: 0.4973\tRecon loss: 0.0994\n",
      "Epoch 84\tTrain loss: 0.4973\tRecon loss: 0.0995\n",
      "Epoch 85\tTrain loss: 0.4973\tRecon loss: 0.0995\n",
      "Epoch 86\tTrain loss: 0.4974\tRecon loss: 0.0995\n",
      "Epoch 87\tTrain loss: 0.4973\tRecon loss: 0.0995\n",
      "Epoch 88\tTrain loss: 0.4973\tRecon loss: 0.0995\n",
      "Epoch 89\tTrain loss: 0.4972\tRecon loss: 0.0994\n",
      "Epoch 90\tTrain loss: 0.4973\tRecon loss: 0.0995\n",
      "Epoch 91\tTrain loss: 0.4973\tRecon loss: 0.0994\n",
      "Epoch 92\tTrain loss: 0.4973\tRecon loss: 0.0994\n",
      "Epoch 93\tTrain loss: 0.4972\tRecon loss: 0.0994\n",
      "Epoch 94\tTrain loss: 0.4972\tRecon loss: 0.0994\n",
      "Epoch 95\tTrain loss: 0.4972\tRecon loss: 0.0994\n",
      "Epoch 96\tTrain loss: 0.4972\tRecon loss: 0.0994\n",
      "Epoch 97\tTrain loss: 0.4972\tRecon loss: 0.0994\n",
      "Epoch 98\tTrain loss: 0.4971\tRecon loss: 0.0994\n",
      "Epoch 99\tTrain loss: 0.4972\tRecon loss: 0.0994\n",
      "Epoch 100\tTrain loss: 0.4972\tRecon loss: 0.0994\n"
     ]
    }
   ],
   "source": [
    "train_vae(4)"
   ]
  },
  {
   "cell_type": "markdown",
   "metadata": {},
   "source": [
    "# Latent Clf"
   ]
  },
  {
   "cell_type": "code",
   "execution_count": 19,
   "metadata": {
    "scrolled": true
   },
   "outputs": [
    {
     "data": {
      "text/plain": [
       "VAE_1D(\n",
       "  (encoder): Sequential(\n",
       "    (0): Conv1d(9, 32, kernel_size=(4,), stride=(2,))\n",
       "    (1): ReLU()\n",
       "    (2): Conv1d(32, 64, kernel_size=(4,), stride=(2,))\n",
       "    (3): ReLU()\n",
       "    (4): Conv1d(64, 128, kernel_size=(4,), stride=(2,))\n",
       "    (5): ReLU()\n",
       "    (6): Conv1d(128, 256, kernel_size=(4,), stride=(2,))\n",
       "    (7): ReLU()\n",
       "    (8): Flatten()\n",
       "  )\n",
       "  (fc1): Linear(in_features=1536, out_features=32, bias=True)\n",
       "  (fc2): Linear(in_features=1536, out_features=32, bias=True)\n",
       "  (fc3): Linear(in_features=32, out_features=1536, bias=True)\n",
       "  (decoder): Sequential(\n",
       "    (0): UnFlatten()\n",
       "    (1): ConvTranspose1d(256, 128, kernel_size=(4,), stride=(2,))\n",
       "    (2): ReLU()\n",
       "    (3): ConvTranspose1d(128, 64, kernel_size=(4,), stride=(2,))\n",
       "    (4): ReLU()\n",
       "    (5): ConvTranspose1d(64, 32, kernel_size=(4,), stride=(2,), output_padding=(1,))\n",
       "    (6): ReLU()\n",
       "    (7): ConvTranspose1d(32, 9, kernel_size=(4,), stride=(2,))\n",
       "    (8): Sigmoid()\n",
       "  )\n",
       ")"
      ]
     },
     "execution_count": 19,
     "metadata": {},
     "output_type": "execute_result"
    }
   ],
   "source": [
    "cuda_num = 4\n",
    "device = 'cuda:%d'%cuda_num\n",
    "\n",
    "model_dir='./simulation/HAR_UCI/'\n",
    "vae = VAE_1D(9, 1536)\n",
    "state_dict = torch.load(os.path.join(model_dir, 'vae-epoch{}.pt'.format(95)))\n",
    "vae.load_state_dict(state_dict)\n",
    "vae.to(device)"
   ]
  },
  {
   "cell_type": "code",
   "execution_count": 39,
   "metadata": {},
   "outputs": [],
   "source": [
    "train_loader, test_loader = uci_har('/workspace/Dataset/TSData/uci_data/np/')\n",
    "vae.eval()\n",
    "\n",
    "z_list = None\n",
    "z_mean_list = None\n",
    "true_label_list = None\n",
    "\n",
    "for data, label in train_loader:\n",
    "    z, z_mean, z_var = vae.encode(data.to(device))\n",
    "    z_mean_list = concatenate(z_mean_list, z_mean.detach().cpu().numpy())\n",
    "    z_list = concatenate(z_list, z.detach().cpu().numpy())\n",
    "    true_label_list = concatenate(true_label_list, label.detach().numpy())\n",
    "    \n",
    "latent_loader = get_dataloader(z_mean_list, true_label_list, 256)\n",
    "\n",
    "test_z_list = None\n",
    "test_z_mean_list = None\n",
    "test_true_label_list = None\n",
    "\n",
    "for data, label in test_loader:\n",
    "    z, z_mean, z_var = vae.encode(data.to(device))\n",
    "    test_z_mean_list = concatenate(test_z_mean_list, z_mean.detach().cpu().numpy())\n",
    "    test_z_list = concatenate(test_z_list, z.detach().cpu().numpy())\n",
    "    test_true_label_list = concatenate(test_true_label_list, label.detach().numpy())\n",
    "    \n",
    "test_latent_loader = get_dataloader(test_z_mean_list, test_true_label_list, 256, shuffle=False)"
   ]
  },
  {
   "cell_type": "code",
   "execution_count": 40,
   "metadata": {},
   "outputs": [],
   "source": [
    "class LatentClf(nn.Module):\n",
    "    def __init__(self):\n",
    "        super(LatentClf, self).__init__()\n",
    "        self.conv1 = nn.Conv1d(1, 64, 5, padding=2, stride=2)  # in_channels=3\n",
    "        self.bn1 = nn.BatchNorm1d(64, momentum=0.9)\n",
    "        self.maxpool = nn.MaxPool1d(2, 2)\n",
    "        self.conv2 = nn.Conv1d(64, 128, 5, padding=2, stride=2)\n",
    "        self.bn2 = nn.BatchNorm1d(128, momentum=0.9)\n",
    "        self.fc1 = nn.Linear(128 * 4, 256)\n",
    "        self.fc2 = nn.Linear(256, 10)\n",
    "        self.relu = nn.LeakyReLU()\n",
    "        self.bn3 = nn.BatchNorm1d(256, momentum=0.9)\n",
    "\n",
    "    def forward(self, x):\n",
    "        out = self.maxpool(self.relu(self.bn1(self.conv1(x))))\n",
    "        out = self.relu(self.bn2(self.conv2(out)))\n",
    "#         print(out.shape)\n",
    "        out = out.view(x.size(0),-1)\n",
    "        out = self.relu(self.bn3(self.fc1(out)))\n",
    "        out = self.relu(self.fc2(out))\n",
    "        return out"
   ]
  },
  {
   "cell_type": "code",
   "execution_count": 42,
   "metadata": {
    "scrolled": true
   },
   "outputs": [
    {
     "name": "stdout",
     "output_type": "stream",
     "text": [
      "epoch: 0\tloss: 1.1204\testacc: 0.7509\n",
      "epoch: 1\tloss: 0.5250\testacc: 0.7849\n",
      "epoch: 2\tloss: 0.4259\testacc: 0.7893\n",
      "epoch: 3\tloss: 0.3827\testacc: 0.8045\n",
      "epoch: 4\tloss: 0.3427\testacc: 0.8185\n",
      "epoch: 5\tloss: 0.3019\testacc: 0.8066\n",
      "epoch: 6\tloss: 0.2746\testacc: 0.8171\n",
      "epoch: 7\tloss: 0.2628\testacc: 0.8005\n",
      "epoch: 8\tloss: 0.2279\testacc: 0.8151\n",
      "epoch: 9\tloss: 0.2130\testacc: 0.8086\n",
      "epoch: 10\tloss: 0.1931\testacc: 0.8286\n",
      "epoch: 11\tloss: 0.1755\testacc: 0.8134\n",
      "epoch: 12\tloss: 0.1711\testacc: 0.8110\n",
      "epoch: 13\tloss: 0.1615\testacc: 0.8246\n",
      "epoch: 14\tloss: 0.1489\testacc: 0.8222\n",
      "epoch: 15\tloss: 0.1289\testacc: 0.8286\n",
      "epoch: 16\tloss: 0.1241\testacc: 0.8229\n",
      "epoch: 17\tloss: 0.1335\testacc: 0.8276\n",
      "epoch: 18\tloss: 0.1222\testacc: 0.8185\n",
      "epoch: 19\tloss: 0.1075\testacc: 0.8205\n",
      "epoch: 20\tloss: 0.1015\testacc: 0.8198\n",
      "epoch: 21\tloss: 0.0991\testacc: 0.8229\n",
      "epoch: 22\tloss: 0.0942\testacc: 0.8269\n",
      "epoch: 23\tloss: 0.0970\testacc: 0.8276\n",
      "epoch: 24\tloss: 0.0952\testacc: 0.8110\n",
      "epoch: 25\tloss: 0.0912\testacc: 0.8079\n",
      "epoch: 26\tloss: 0.0868\testacc: 0.8086\n",
      "epoch: 27\tloss: 0.0854\testacc: 0.8219\n",
      "epoch: 28\tloss: 0.0835\testacc: 0.8225\n",
      "epoch: 29\tloss: 0.0841\testacc: 0.8171\n"
     ]
    }
   ],
   "source": [
    "l_clf = LatentClf()\n",
    "l_clf.to(device)\n",
    "optimizer = torch.optim.SGD(l_clf.parameters(), lr=0.01, momentum=0.9)\n",
    "criterion = nn.CrossEntropyLoss()\n",
    "\n",
    "best_acc = -1\n",
    "best_l_clf = None\n",
    "\n",
    "for epo in range(30):\n",
    "    l_clf.train()\n",
    "    lossavg = AverageMeter()\n",
    "    for latent, y_hat in latent_loader:\n",
    "        latent = latent.unsqueeze(1).to(device)\n",
    "        \n",
    "        out = l_clf(latent)\n",
    "        loss = criterion(out, y_hat.long().to(device))\n",
    "        lossavg.update(loss.item(), y_hat.size(0))\n",
    "        \n",
    "        optimizer.zero_grad()\n",
    "        loss.backward()\n",
    "        optimizer.step()\n",
    "    \n",
    "    correct = 0\n",
    "    for latent, y_hat in test_latent_loader:\n",
    "        out = l_clf(latent.unsqueeze(1).to(device))\n",
    "        out = F.softmax(out, dim=1)\n",
    "        _, pred = out.max(1)\n",
    "\n",
    "        correct += pred.eq(y_hat.to(device)).sum().item()\n",
    "        \n",
    "    if best_acc < correct/test_z_list.shape[0]:\n",
    "        best_acc = correct/test_z_list.shape[0]\n",
    "        best_l_clf = copy.deepcopy(l_clf)\n",
    "        \n",
    "    print('epoch: %d\\tloss: %.4f\\ttestacc: %.4f' % (epo, lossavg.avg, correct/test_z_list.shape[0]))"
   ]
  },
  {
   "cell_type": "code",
   "execution_count": 43,
   "metadata": {},
   "outputs": [],
   "source": [
    "torch.save(l_clf.state_dict(), os.path.join(model_dir, 'l_clf.pt'))"
   ]
  },
  {
   "cell_type": "code",
   "execution_count": 75,
   "metadata": {},
   "outputs": [
    {
     "data": {
      "text/plain": [
       "<All keys matched successfully>"
      ]
     },
     "execution_count": 75,
     "metadata": {},
     "output_type": "execute_result"
    }
   ],
   "source": [
    "train_loader, test_loader = uci_har('/workspace/Dataset/TSData/uci_data/np/')\n",
    "device = 'cuda:%d' % CUDA_NUM\n",
    "\n",
    "model = HARClassifier()\n",
    "model.to(device)\n",
    "model.load_state_dict(state_dict)"
   ]
  },
  {
   "cell_type": "code",
   "execution_count": 74,
   "metadata": {},
   "outputs": [],
   "source": [
    "model_dir = './simulation/HAR_UCI/'\n",
    "model_file = os.path.join(model_dir, 'comp0_0-model-epoch{}.pt'.format(99))\n",
    "\n",
    "state_dict = torch.load(model_file)"
   ]
  },
  {
   "cell_type": "code",
   "execution_count": 73,
   "metadata": {},
   "outputs": [
    {
     "data": {
      "text/plain": [
       "'./simulation/HAR_UCI/comp0_0-model-epoch99.pt'"
      ]
     },
     "execution_count": 73,
     "metadata": {},
     "output_type": "execute_result"
    }
   ],
   "source": [
    "'./simulation/HAR_UCI/comp0_0-model-epoch99.pt'"
   ]
  },
  {
   "cell_type": "code",
   "execution_count": 72,
   "metadata": {},
   "outputs": [],
   "source": [
    "import matplotlib.pyplot as plt"
   ]
  },
  {
   "cell_type": "code",
   "execution_count": null,
   "metadata": {
    "scrolled": true
   },
   "outputs": [
    {
     "data": {
      "application/vnd.jupyter.widget-view+json": {
       "model_id": "",
       "version_major": 2,
       "version_minor": 0
      },
      "text/plain": [
       "  0%|          | 0/100 [00:00<?, ?it/s]"
      ]
     },
     "metadata": {},
     "output_type": "display_data"
    },
    {
     "name": "stdout",
     "output_type": "stream",
     "text": [
      "Epoch 1\tTrain loss: 1.7831\tValidation accuracy: 0.4253\n",
      "Epoch 2\tTrain loss: 1.5139\tValidation accuracy: 0.4289\n",
      "Epoch 3\tTrain loss: 0.9173\tValidation accuracy: 0.6170\n",
      "Epoch 4\tTrain loss: 0.6766\tValidation accuracy: 0.6557\n",
      "Epoch 5\tTrain loss: 0.5246\tValidation accuracy: 0.6888\n",
      "Epoch 6\tTrain loss: 0.3887\tValidation accuracy: 0.7440\n",
      "Epoch 7\tTrain loss: 0.3794\tValidation accuracy: 0.7137\n",
      "Epoch 8\tTrain loss: 0.2320\tValidation accuracy: 0.8250\n",
      "Epoch 9\tTrain loss: 0.1849\tValidation accuracy: 0.8763\n",
      "Epoch 10\tTrain loss: 0.1864\tValidation accuracy: 0.8777\n",
      "Epoch 11\tTrain loss: 0.1513\tValidation accuracy: 0.8717\n",
      "Epoch 12\tTrain loss: 0.1297\tValidation accuracy: 0.8917\n",
      "Epoch 13\tTrain loss: 0.1261\tValidation accuracy: 0.8930\n",
      "Epoch 14\tTrain loss: 0.1294\tValidation accuracy: 0.8937\n",
      "Epoch 15\tTrain loss: 0.1162\tValidation accuracy: 0.8923\n",
      "Epoch 16\tTrain loss: 0.1258\tValidation accuracy: 0.8787\n",
      "Epoch 17\tTrain loss: 0.1542\tValidation accuracy: 0.8806\n"
     ]
    }
   ],
   "source": [
    "har_train()"
   ]
  },
  {
   "cell_type": "code",
   "execution_count": 70,
   "metadata": {},
   "outputs": [],
   "source": [
    "def train_iter(model, optimizer, criterion, data_loader, device, comp_ratio=0.):\n",
    "    model.train()\n",
    "    iteration_loss = AverageMeter()\n",
    "    for i, (X, y) in enumerate(data_loader):\n",
    "        X, y = X.to(device), y.to(device)\n",
    "        \n",
    "        output = model(X)\n",
    "        \n",
    "        loss = criterion(output, y.long())\n",
    "        \n",
    "        iteration_loss.update(loss.item(), X.size(0))\n",
    "        \n",
    "        optimizer.zero_grad()\n",
    "        loss.backward()\n",
    "        optimizer.step()\n",
    "        \n",
    "        if comp_ratio > 0:\n",
    "            idxs, lams = structured_har(model, comp_ratio)    \n",
    "    if comp_ratio > 0:\n",
    "        idxs, lams = structured_har(model, comp_ratio)\n",
    "    return iteration_loss.avg\n",
    "\n",
    "\n",
    "def test_iter(model, criterion, data_loader, device, check_adv=False, epsilon=0.3, alpha=0.0073, k=7):\n",
    "    model.eval()\n",
    "    normal_acc = AverageMeter()\n",
    "    \n",
    "    if check_adv:\n",
    "        adv = LinfPGDAttack(model, epsilon=epsilon, alpha=alpha, k=k)\n",
    "        off_acc = AverageMeter()\n",
    "    \n",
    "    for i, (X, y) in enumerate(data_loader):\n",
    "        X, y = X.to(device), y.to(device)\n",
    "        \n",
    "        output = model(X)\n",
    "        \n",
    "        out = F.softmax(output, dim=1)\n",
    "        _, predicted = out.max(1)\n",
    "        idx = predicted.eq(y)\n",
    "        \n",
    "        acc = idx.sum().item() / X.size(0)\n",
    "        normal_acc.update(acc)\n",
    "        \n",
    "        if check_adv:\n",
    "        \n",
    "            adv_x = adv.perturb(X, y.long())\n",
    "\n",
    "            out = model(adv_x)\n",
    "            out = F.softmax(out, dim=1)\n",
    "            _, predicted = out.max(1)\n",
    "            idx = predicted.eq(y)\n",
    "            \n",
    "            acc = idx.sum().item() / X.size(0)\n",
    "            off_acc.update(acc)\n",
    "            \n",
    "    if check_adv:\n",
    "        return normal_acc.avg, off_acc.avg\n",
    "    else:\n",
    "        return normal_acc.avg\n",
    "\n",
    "\n",
    "\n",
    "def train(cuda_num=4, EPOCH=100, save_interval=5, comp_ratio=0.):\n",
    "    model_dir = './simulation/HAR_UCI/'\n",
    "    if not os.path.exists(model_dir):\n",
    "        os.mkdir(model_dir)\n",
    "    train_loader, test_loader = uci_har('/workspace/Dataset/TSData/uci_data/np/')\n",
    "    device = 'cuda:%d' % cuda_num\n",
    "    \n",
    "    model = HARClassifier()\n",
    "    model.to(device)\n",
    "    optimizer = optim.SGD(model.parameters(), lr=0.01, momentum=0.91)\n",
    "    scheduler = MultiStepLR(optimizer, milestones=[55,75,90], gamma=0.1)\n",
    "    criterion = nn.CrossEntropyLoss()\n",
    "    \n",
    "    for epoch in tqdm(range(EPOCH)):\n",
    "        train_loss = train_iter(model, optimizer, criterion, train_loader, device)\n",
    "        val_acc = test_iter(model, criterion, test_loader, device)\n",
    "        scheduler.step()\n",
    "        \n",
    "        print('Epoch {}\\tTrain loss: {:.4f}\\tValidation accuracy: {:.4f}'.format(epoch+1,train_loss, val_acc))\n",
    "        \n",
    "        if (epoch+1) % save_interval == 0:\n",
    "            torch.save(model.state_dict(),\n",
    "                       os.path.join(model_dir, 'comp{}-model-epoch{}.pt'.format(str(comp_ratio*100).replace('.','_'), epoch)))\n",
    "            "
   ]
  },
  {
   "cell_type": "code",
   "execution_count": null,
   "metadata": {},
   "outputs": [],
   "source": [
    "def test_har(comp_ratio, device, model_dir='./simulation/HAR_UCI/'):\n",
    "    state_dict = torch.load(os.path.join(model_dir,\n",
    "                                    'comp{}-model-epoch{}.pt'.format(str(comp_ratio * 100).replace('.', '_'), epoch)))\n",
    "    \n",
    "    train_loader, test_loader = uci_har('/workspace/Dataset/TSData/uci_data/np/')\n",
    "    \n",
    "    model = HARClassifier()\n",
    "    model.to(device)\n",
    "    model.load(state_dict)\n",
    "    \n",
    "    acc, off_acc = test_iter(model, test_loader, device, check_adv=True)"
   ]
  },
  {
   "cell_type": "code",
   "execution_count": 14,
   "metadata": {},
   "outputs": [
    {
     "data": {
      "text/plain": [
       "(0.9113333333333333, 0.32731205673758873)"
      ]
     },
     "execution_count": 14,
     "metadata": {},
     "output_type": "execute_result"
    }
   ],
   "source": [
    "acc, off_acc"
   ]
  },
  {
   "cell_type": "code",
   "execution_count": 12,
   "metadata": {},
   "outputs": [],
   "source": [
    "model_dir='./simulation/HAR_UCI/'\n",
    "device = 'cuda:%d'%4\n",
    "state_dict = torch.load(os.path.join(model_dir,\n",
    "                                    'comp0_0-model-epoch{}.pt'.format(99)))\n",
    "\n",
    "train_loader, test_loader = uci_har('/workspace/Dataset/TSData/uci_data/np/')\n",
    "\n",
    "model = HARClassifier()\n",
    "model.to(device)\n",
    "model.load_state_dict(state_dict)\n",
    "\n",
    "acc, off_acc = test_iter(model, test_loader, device, check_adv=True)"
   ]
  },
  {
   "cell_type": "code",
   "execution_count": 5,
   "metadata": {},
   "outputs": [],
   "source": [
    "def test_iter(model, data_loader, device, check_adv=False, epsilon=0.3, alpha=0.0073, k=7):\n",
    "    \n",
    "    model.eval()\n",
    "    normal_acc = AverageMeter()\n",
    "\n",
    "    if check_adv:\n",
    "        adv = LinfPGDAttack(model, epsilon=epsilon, alpha=alpha, k=k)\n",
    "        off_acc = AverageMeter()\n",
    "\n",
    "    for i, (X, y) in enumerate(data_loader):\n",
    "        X, y = X.to(device), y.to(device)\n",
    "\n",
    "        output = model(X)\n",
    "\n",
    "        out = F.softmax(output, dim=1)\n",
    "        _, predicted = out.max(1)\n",
    "        idx = predicted.eq(y)\n",
    "\n",
    "        acc = idx.sum().item() / X.size(0)\n",
    "        normal_acc.update(acc)\n",
    "\n",
    "        if check_adv:\n",
    "            adv_x = adv.perturb(X, y.long())\n",
    "\n",
    "            out = model(adv_x)\n",
    "            out = F.softmax(out, dim=1)\n",
    "            _, predicted = out.max(1)\n",
    "            idx = predicted.eq(y)\n",
    "\n",
    "            acc = idx.sum().item() / X.size(0)\n",
    "            off_acc.update(acc)\n",
    "\n",
    "    if check_adv:\n",
    "        return normal_acc.avg, off_acc.avg\n",
    "    else:\n",
    "        return normal_acc.avg"
   ]
  }
 ],
 "metadata": {
  "kernelspec": {
   "display_name": "Python 3",
   "language": "python",
   "name": "python3"
  },
  "language_info": {
   "codemirror_mode": {
    "name": "ipython",
    "version": 3
   },
   "file_extension": ".py",
   "mimetype": "text/x-python",
   "name": "python",
   "nbconvert_exporter": "python",
   "pygments_lexer": "ipython3",
   "version": "3.7.4"
  }
 },
 "nbformat": 4,
 "nbformat_minor": 4
}
